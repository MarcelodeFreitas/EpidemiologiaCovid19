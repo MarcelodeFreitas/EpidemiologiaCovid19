{
 "cells": [
  {
   "cell_type": "code",
   "execution_count": 3,
   "metadata": {},
   "outputs": [
    {
     "data": {
      "text/plain": [
       "['Requirement already satisfied: ipython-sql in c:\\\\osgeo4~1\\\\apps\\\\python37\\\\lib\\\\site-packages (0.3.9)',\n",
       " 'Requirement already satisfied: ipython-genutils>=0.1.0 in c:\\\\osgeo4~1\\\\apps\\\\python37\\\\lib\\\\site-packages (from ipython-sql) (0.2.0)',\n",
       " 'Requirement already satisfied: sqlalchemy>=0.6.7 in c:\\\\osgeo4~1\\\\apps\\\\python37\\\\lib\\\\site-packages (from ipython-sql) (1.3.16)',\n",
       " 'Requirement already satisfied: six in c:\\\\users\\\\andre\\\\appdata\\\\roaming\\\\python\\\\python37\\\\site-packages (from ipython-sql) (1.12.0)',\n",
       " 'Requirement already satisfied: ipython>=1.0 in c:\\\\osgeo4~1\\\\apps\\\\python37\\\\lib\\\\site-packages (from ipython-sql) (7.13.0)',\n",
       " 'Requirement already satisfied: prettytable in c:\\\\osgeo4~1\\\\apps\\\\python37\\\\lib\\\\site-packages (from ipython-sql) (0.7.2)',\n",
       " 'Requirement already satisfied: sqlparse in c:\\\\osgeo4~1\\\\apps\\\\python37\\\\lib\\\\site-packages (from ipython-sql) (0.3.1)',\n",
       " 'Requirement already satisfied: pygments in c:\\\\osgeo4~1\\\\apps\\\\python37\\\\lib\\\\site-packages (from ipython>=1.0->ipython-sql) (2.5.2)',\n",
       " 'Requirement already satisfied: pickleshare in c:\\\\osgeo4~1\\\\apps\\\\python37\\\\lib\\\\site-packages (from ipython>=1.0->ipython-sql) (0.7.5)',\n",
       " 'Requirement already satisfied: backcall in c:\\\\osgeo4~1\\\\apps\\\\python37\\\\lib\\\\site-packages (from ipython>=1.0->ipython-sql) (0.1.0)',\n",
       " 'Requirement already satisfied: colorama; sys_platform == \"win32\" in c:\\\\users\\\\andre\\\\appdata\\\\roaming\\\\python\\\\python37\\\\site-packages (from ipython>=1.0->ipython-sql) (0.4.1)',\n",
       " 'Requirement already satisfied: traitlets>=4.2 in c:\\\\osgeo4~1\\\\apps\\\\python37\\\\lib\\\\site-packages (from ipython>=1.0->ipython-sql) (4.3.3)',\n",
       " 'Requirement already satisfied: jedi>=0.10 in c:\\\\osgeo4~1\\\\apps\\\\python37\\\\lib\\\\site-packages (from ipython>=1.0->ipython-sql) (0.17.0)',\n",
       " 'Requirement already satisfied: decorator in c:\\\\osgeo4~1\\\\apps\\\\python37\\\\lib\\\\site-packages (from ipython>=1.0->ipython-sql) (4.4.1)',\n",
       " 'Requirement already satisfied: prompt-toolkit!=3.0.0,!=3.0.1,<3.1.0,>=2.0.0 in c:\\\\osgeo4~1\\\\apps\\\\python37\\\\lib\\\\site-packages (from ipython>=1.0->ipython-sql) (3.0.5)',\n",
       " 'Requirement already satisfied: setuptools>=18.5 in c:\\\\osgeo4~1\\\\apps\\\\python37\\\\lib\\\\site-packages (from ipython>=1.0->ipython-sql) (45.2.0)',\n",
       " 'Requirement already satisfied: parso>=0.7.0 in c:\\\\osgeo4~1\\\\apps\\\\python37\\\\lib\\\\site-packages (from jedi>=0.10->ipython>=1.0->ipython-sql) (0.7.0)',\n",
       " 'Requirement already satisfied: wcwidth in c:\\\\osgeo4~1\\\\apps\\\\python37\\\\lib\\\\site-packages (from prompt-toolkit!=3.0.0,!=3.0.1,<3.1.0,>=2.0.0->ipython>=1.0->ipython-sql) (0.1.9)']"
      ]
     },
     "execution_count": 3,
     "metadata": {},
     "output_type": "execute_result"
    }
   ],
   "source": [
    "%%!\n",
    "pip install --trusted-host pypi.org ipython-sql\n"
   ]
  },
  {
   "cell_type": "code",
   "execution_count": 4,
   "metadata": {},
   "outputs": [],
   "source": [
    "%load_ext sql"
   ]
  },
  {
   "cell_type": "code",
   "execution_count": 6,
   "metadata": {},
   "outputs": [
    {
     "name": "stdout",
     "output_type": "stream",
     "text": [
      " * sqlite://\n",
      "(sqlite3.OperationalError) near \"sqlite\": syntax error\n",
      "[SQL: sqlite:Meu_puto//]\n",
      "(Background on this error at: http://sqlalche.me/e/e3q8)\n"
     ]
    }
   ],
   "source": [
    "%sql sqlite://Meuputo\n",
    "    \n"
   ]
  },
  {
   "cell_type": "code",
   "execution_count": null,
   "metadata": {},
   "outputs": [],
   "source": []
  }
 ],
 "metadata": {
  "kernelspec": {
   "display_name": "Python 3",
   "language": "python",
   "name": "python3"
  },
  "language_info": {
   "codemirror_mode": {
    "name": "ipython",
    "version": 3
   },
   "file_extension": ".py",
   "mimetype": "text/x-python",
   "name": "python",
   "nbconvert_exporter": "python",
   "pygments_lexer": "ipython3",
   "version": "3.7.0"
  }
 },
 "nbformat": 4,
 "nbformat_minor": 2
}
